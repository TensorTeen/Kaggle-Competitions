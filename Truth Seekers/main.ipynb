{
 "cells": [
  {
   "cell_type": "code",
   "execution_count": 1,
   "outputs": [],
   "source": [
    "import pandas as pd\n",
    "import numpy as np\n",
    "from sklearn.feature_extraction.text import TfidfTransformer\n",
    "from sklearn.feature_extraction.text import CountVectorizer\n",
    "from sklearn.feature_extraction.text import TfidfVectorizer\n",
    "from sklearn.model_selection import train_test_split\n",
    "from pyod.models.copod import COPOD\n",
    "from pyod.utils.data import generate_data\n",
    "from pyod.utils.data import evaluate_print\n",
    "from pyod.utils.example import visualize\n"
   ],
   "metadata": {
    "collapsed": false,
    "ExecuteTime": {
     "end_time": "2023-08-11T16:57:45.291669600Z",
     "start_time": "2023-08-11T16:57:44.885931400Z"
    }
   },
   "id": "1cd1c5a9dd7104b8"
  },
  {
   "cell_type": "code",
   "execution_count": 2,
   "id": "initial_id",
   "metadata": {
    "collapsed": true,
    "ExecuteTime": {
     "end_time": "2023-08-11T16:57:45.958077300Z",
     "start_time": "2023-08-11T16:57:45.290668400Z"
    }
   },
   "outputs": [],
   "source": [
    "df = pd.read_csv('train.csv')"
   ]
  },
  {
   "cell_type": "code",
   "execution_count": 3,
   "outputs": [],
   "source": [
    "df_test = pd.read_csv('test.csv')[[\"id\", \"all\"]]\n",
    "len(df_test)\n",
    "x_df_test = df_test['all']"
   ],
   "metadata": {
    "collapsed": false,
    "ExecuteTime": {
     "end_time": "2023-08-11T16:57:46.516085700Z",
     "start_time": "2023-08-11T16:57:45.956078Z"
    }
   },
   "id": "269831a36330a285"
  },
  {
   "cell_type": "code",
   "execution_count": 4,
   "outputs": [
    {
     "data": {
      "text/plain": "0       MAJOR LIBERAL RAG RELUCTANTLY PUBLISHES Articl...\n1       AT&T, Time Warner and the Death of PrivacyAT&T...\n2       The World Sees a Diminished AmericaThe World S...\n3       The Bolton Threat to Trump’s Middle East Polic...\n4       Life at migrant centers in Germany: RT talks t...\n                              ...                        \n7883    Italy's ruling PD slides further in polls as e...\n7884    Trump-backed Navy expansion would boost costs ...\n7885    Canada and E.U. Sign Trade Deal, Bucking Resis...\n7886    With Koch Brothers Academy, Conservatives Sett...\n7887    More than 50 arrested for looting in Miami dur...\nName: all, Length: 17438, dtype: object"
     },
     "execution_count": 4,
     "metadata": {},
     "output_type": "execute_result"
    }
   ],
   "source": [
    "x_df = df['all']\n",
    "x_df_temp = x_df._append(x_df_test)\n",
    "y_df = df['label']\n",
    "x_df_temp"
   ],
   "metadata": {
    "collapsed": false,
    "ExecuteTime": {
     "end_time": "2023-08-11T16:57:46.541674Z",
     "start_time": "2023-08-11T16:57:46.518088900Z"
    }
   },
   "id": "98cfa16b4b3db9be"
  },
  {
   "cell_type": "code",
   "execution_count": 5,
   "outputs": [],
   "source": [
    "count_vectorizer = CountVectorizer(max_features=60000)\n",
    "count_vectorizer.fit_transform(x_df_temp)\n",
    "freq_term_matrix = count_vectorizer.transform(x_df_temp)\n",
    "tfidf = TfidfTransformer(norm = \"l2\")\n",
    "tfidf.fit(freq_term_matrix)\n",
    "tf_idf_matrix = tfidf.fit_transform(freq_term_matrix)\n"
   ],
   "metadata": {
    "collapsed": false,
    "ExecuteTime": {
     "end_time": "2023-08-11T16:57:57.710961200Z",
     "start_time": "2023-08-11T16:57:46.527979400Z"
    }
   },
   "id": "4e808edc1b5684db"
  },
  {
   "cell_type": "code",
   "execution_count": 6,
   "outputs": [
    {
     "data": {
      "text/plain": "<17438x60000 sparse matrix of type '<class 'numpy.float64'>'\n\twith 4457207 stored elements in Compressed Sparse Row format>"
     },
     "execution_count": 6,
     "metadata": {},
     "output_type": "execute_result"
    }
   ],
   "source": [
    "tf_idf_matrix"
   ],
   "metadata": {
    "collapsed": false,
    "ExecuteTime": {
     "end_time": "2023-08-11T16:57:57.722208900Z",
     "start_time": "2023-08-11T16:57:57.711962600Z"
    }
   },
   "id": "23f5c8621a549e49"
  },
  {
   "cell_type": "code",
   "execution_count": 7,
   "outputs": [],
   "source": [
    "x_train, x_test, y_train, y_test = train_test_split(tf_idf_matrix[:9550],y_df,random_state=0)"
   ],
   "metadata": {
    "collapsed": false,
    "ExecuteTime": {
     "end_time": "2023-08-11T16:57:57.774192700Z",
     "start_time": "2023-08-11T16:57:57.717125300Z"
    }
   },
   "id": "8f79305f20f57619"
  },
  {
   "cell_type": "code",
   "execution_count": 13,
   "outputs": [
    {
     "name": "stdout",
     "output_type": "stream",
     "text": [
      "Accuracy: 100.0%\n"
     ]
    }
   ],
   "source": [
    "from sklearn.metrics import accuracy_score\n",
    "from sklearn.linear_model import PassiveAggressiveClassifier\n",
    "pac=PassiveAggressiveClassifier(max_iter=50)\n",
    "pac.fit(tf_idf_matrix[:9550],y_df)\n",
    "#Predict on the test set and calculate accuracy\n",
    "y_pred=pac.predict(x_test)\n",
    "score=accuracy_score(y_test,y_pred)\n",
    "print(f'Accuracy: {round(score*100,2)}%')"
   ],
   "metadata": {
    "collapsed": false,
    "ExecuteTime": {
     "end_time": "2023-08-11T16:53:54.638488200Z",
     "start_time": "2023-08-11T16:53:53.813237900Z"
    }
   },
   "id": "f178d474c87d67e0"
  },
  {
   "cell_type": "code",
   "execution_count": 15,
   "outputs": [],
   "source": [
    "freq_term_matrix_test = count_vectorizer.transform(x_df_test)\n",
    "tf_idf_matrix_test = tfidf.transform(freq_term_matrix_test)"
   ],
   "metadata": {
    "collapsed": false,
    "ExecuteTime": {
     "end_time": "2023-08-10T15:04:44.155021100Z",
     "start_time": "2023-08-10T15:04:38.937456500Z"
    }
   },
   "id": "1e9080a014315f1"
  },
  {
   "cell_type": "code",
   "execution_count": 16,
   "outputs": [
    {
     "data": {
      "text/plain": "(7888, 138439)"
     },
     "execution_count": 16,
     "metadata": {},
     "output_type": "execute_result"
    }
   ],
   "source": [
    "tf_idf_matrix_test.shape"
   ],
   "metadata": {
    "collapsed": false,
    "ExecuteTime": {
     "end_time": "2023-08-10T15:04:44.183547200Z",
     "start_time": "2023-08-10T15:04:44.163927100Z"
    }
   },
   "id": "967af80bab925511"
  },
  {
   "cell_type": "code",
   "execution_count": 17,
   "outputs": [],
   "source": [
    "df_out = pd.DataFrame()\n",
    "df_out['id'] = df_test['id']"
   ],
   "metadata": {
    "collapsed": false,
    "ExecuteTime": {
     "end_time": "2023-08-10T15:04:46.464546300Z",
     "start_time": "2023-08-10T15:04:46.445973700Z"
    }
   },
   "id": "a68155a5fe1a208b"
  },
  {
   "cell_type": "code",
   "execution_count": 18,
   "outputs": [],
   "source": [
    "y_pred_pac_test = pac.predict(tf_idf_matrix_test)\n",
    "df_out[\"label\"] = y_pred_pac_test"
   ],
   "metadata": {
    "collapsed": false,
    "ExecuteTime": {
     "end_time": "2023-08-10T15:04:49.689927600Z",
     "start_time": "2023-08-10T15:04:49.674274800Z"
    }
   },
   "id": "52d5e5f5d0dab5b3"
  },
  {
   "cell_type": "code",
   "execution_count": 19,
   "outputs": [],
   "source": [
    "df_out.to_csv('submission.csv',index=False)"
   ],
   "metadata": {
    "collapsed": false,
    "ExecuteTime": {
     "end_time": "2023-08-10T15:04:51.058289100Z",
     "start_time": "2023-08-10T15:04:51.015135200Z"
    }
   },
   "id": "4ce9f2ee206cbed1"
  },
  {
   "cell_type": "code",
   "execution_count": null,
   "outputs": [],
   "source": [
    "from sklearn.metrics import accuracy_score\n",
    "from xgboost import XGBClassifier\n",
    "xgb=XGBClassifier()\n",
    "xgb.fit(x_train,y_train)\n",
    "#Predict on the test set and calculate accuracy\n",
    "y_pred=xgb.predict(x_test)\n",
    "score=accuracy_score(y_test,y_pred)\n",
    "print(f'Accuracy: {round(score*100,2)}%')"
   ],
   "metadata": {
    "collapsed": false,
    "ExecuteTime": {
     "start_time": "2023-08-10T14:56:16.557723100Z"
    }
   },
   "id": "de2de72e92e28eb2"
  },
  {
   "cell_type": "code",
   "execution_count": null,
   "outputs": [],
   "source": [
    "df_out = pd.DataFrame()\n",
    "df_out['id'] = df_test['id']\n",
    "y_pred_xgb_test = xgb.predict(tf_idf_matrix_test)\n",
    "df_out[\"label\"] = y_pred_xgb_test\n",
    "df_out.to_csv('submission.csv', index=False)"
   ],
   "metadata": {
    "collapsed": false,
    "ExecuteTime": {
     "start_time": "2023-08-10T14:56:16.561243900Z"
    }
   },
   "id": "4afe9b521775638a"
  },
  {
   "cell_type": "code",
   "execution_count": null,
   "outputs": [],
   "source": [
    "from sklearn.naive_bayes import MultinomialNB\n",
    "clf=MultinomialNB(alpha=.01,)\n",
    "clf.fit(x_train,y_train) \n",
    "y_pred_clf = clf.predict(x_test)\n",
    "score=accuracy_score(y_test,y_pred_clf)\n",
    "print(f'Accuracy: {round(score*100,2)}%')"
   ],
   "metadata": {
    "collapsed": false,
    "ExecuteTime": {
     "start_time": "2023-08-10T14:56:16.564390800Z"
    }
   },
   "id": "620356e3f283077a"
  },
  {
   "cell_type": "code",
   "execution_count": 8,
   "outputs": [
    {
     "name": "stderr",
     "output_type": "stream",
     "text": [
      "C:\\Akshay\\Tools\\Python\\Lib\\site-packages\\pyod\\models\\base.py:430: UserWarning: y should not be presented in unsupervised learning.\n",
      "  warnings.warn(\n"
     ]
    },
    {
     "data": {
      "text/plain": "COPOD(contamination=0.1, n_jobs=1)"
     },
     "execution_count": 8,
     "metadata": {},
     "output_type": "execute_result"
    }
   ],
   "source": [
    "clf_name = 'COPOD'\n",
    "clf = COPOD()\n",
    "\n",
    "# you could try parallel version as well.\n",
    "clf = COPOD()\n",
    "clf.fit(x_train.toarray(),y_train)"
   ],
   "metadata": {
    "collapsed": false,
    "ExecuteTime": {
     "end_time": "2023-08-11T17:01:31.873417700Z",
     "start_time": "2023-08-11T16:57:59.515040500Z"
    }
   },
   "id": "af8a668e2740da3e"
  },
  {
   "cell_type": "code",
   "execution_count": 11,
   "outputs": [
    {
     "ename": "ValueError",
     "evalue": "all the input arrays must have same number of dimensions, but the array at index 0 has 2 dimension(s) and the array at index 1 has 0 dimension(s)",
     "output_type": "error",
     "traceback": [
      "\u001B[1;31m---------------------------------------------------------------------------\u001B[0m",
      "\u001B[1;31mValueError\u001B[0m                                Traceback (most recent call last)",
      "Cell \u001B[1;32mIn[11], line 1\u001B[0m\n\u001B[1;32m----> 1\u001B[0m y_pred_clf \u001B[38;5;241m=\u001B[39m \u001B[43mclf\u001B[49m\u001B[38;5;241;43m.\u001B[39;49m\u001B[43mpredict\u001B[49m\u001B[43m(\u001B[49m\u001B[43mx_test\u001B[49m\u001B[43m)\u001B[49m\n\u001B[0;32m      2\u001B[0m score\u001B[38;5;241m=\u001B[39maccuracy_score(y_test,y_pred_clf)\n\u001B[0;32m      3\u001B[0m \u001B[38;5;28mprint\u001B[39m(\u001B[38;5;124mf\u001B[39m\u001B[38;5;124m'\u001B[39m\u001B[38;5;124mAccuracy: \u001B[39m\u001B[38;5;132;01m{\u001B[39;00m\u001B[38;5;28mround\u001B[39m(score\u001B[38;5;241m*\u001B[39m\u001B[38;5;241m100\u001B[39m,\u001B[38;5;241m2\u001B[39m)\u001B[38;5;132;01m}\u001B[39;00m\u001B[38;5;124m%\u001B[39m\u001B[38;5;124m'\u001B[39m)\n",
      "File \u001B[1;32mC:\\Akshay\\Tools\\Python\\Lib\\site-packages\\pyod\\models\\base.py:168\u001B[0m, in \u001B[0;36mBaseDetector.predict\u001B[1;34m(self, X, return_confidence)\u001B[0m\n\u001B[0;32m    147\u001B[0m \u001B[38;5;250m\u001B[39m\u001B[38;5;124;03m\"\"\"Predict if a particular sample is an outlier or not.\u001B[39;00m\n\u001B[0;32m    148\u001B[0m \n\u001B[0;32m    149\u001B[0m \u001B[38;5;124;03mParameters\u001B[39;00m\n\u001B[1;32m   (...)\u001B[0m\n\u001B[0;32m    164\u001B[0m \u001B[38;5;124;03m    Only if return_confidence is set to True.\u001B[39;00m\n\u001B[0;32m    165\u001B[0m \u001B[38;5;124;03m\"\"\"\u001B[39;00m\n\u001B[0;32m    167\u001B[0m check_is_fitted(\u001B[38;5;28mself\u001B[39m, [\u001B[38;5;124m'\u001B[39m\u001B[38;5;124mdecision_scores_\u001B[39m\u001B[38;5;124m'\u001B[39m, \u001B[38;5;124m'\u001B[39m\u001B[38;5;124mthreshold_\u001B[39m\u001B[38;5;124m'\u001B[39m, \u001B[38;5;124m'\u001B[39m\u001B[38;5;124mlabels_\u001B[39m\u001B[38;5;124m'\u001B[39m])\n\u001B[1;32m--> 168\u001B[0m pred_score \u001B[38;5;241m=\u001B[39m \u001B[38;5;28;43mself\u001B[39;49m\u001B[38;5;241;43m.\u001B[39;49m\u001B[43mdecision_function\u001B[49m\u001B[43m(\u001B[49m\u001B[43mX\u001B[49m\u001B[43m)\u001B[49m\n\u001B[0;32m    170\u001B[0m \u001B[38;5;28;01mif\u001B[39;00m \u001B[38;5;28misinstance\u001B[39m(\u001B[38;5;28mself\u001B[39m\u001B[38;5;241m.\u001B[39mcontamination, (\u001B[38;5;28mfloat\u001B[39m, \u001B[38;5;28mint\u001B[39m)):\n\u001B[0;32m    171\u001B[0m     prediction \u001B[38;5;241m=\u001B[39m (pred_score \u001B[38;5;241m>\u001B[39m \u001B[38;5;28mself\u001B[39m\u001B[38;5;241m.\u001B[39mthreshold_)\u001B[38;5;241m.\u001B[39mastype(\u001B[38;5;124m'\u001B[39m\u001B[38;5;124mint\u001B[39m\u001B[38;5;124m'\u001B[39m)\u001B[38;5;241m.\u001B[39mravel()\n",
      "File \u001B[1;32mC:\\Akshay\\Tools\\Python\\Lib\\site-packages\\pyod\\models\\copod.py:132\u001B[0m, in \u001B[0;36mCOPOD.decision_function\u001B[1;34m(self, X)\u001B[0m\n\u001B[0;32m    130\u001B[0m \u001B[38;5;28;01mif\u001B[39;00m \u001B[38;5;28mhasattr\u001B[39m(\u001B[38;5;28mself\u001B[39m, \u001B[38;5;124m'\u001B[39m\u001B[38;5;124mX_train\u001B[39m\u001B[38;5;124m'\u001B[39m):\n\u001B[0;32m    131\u001B[0m     original_size \u001B[38;5;241m=\u001B[39m X\u001B[38;5;241m.\u001B[39mshape[\u001B[38;5;241m0\u001B[39m]\n\u001B[1;32m--> 132\u001B[0m     X \u001B[38;5;241m=\u001B[39m \u001B[43mnp\u001B[49m\u001B[38;5;241;43m.\u001B[39;49m\u001B[43mconcatenate\u001B[49m\u001B[43m(\u001B[49m\u001B[43m(\u001B[49m\u001B[38;5;28;43mself\u001B[39;49m\u001B[38;5;241;43m.\u001B[39;49m\u001B[43mX_train\u001B[49m\u001B[43m,\u001B[49m\u001B[43m \u001B[49m\u001B[43mX\u001B[49m\u001B[43m)\u001B[49m\u001B[43m,\u001B[49m\u001B[43m \u001B[49m\u001B[43maxis\u001B[49m\u001B[38;5;241;43m=\u001B[39;49m\u001B[38;5;241;43m0\u001B[39;49m\u001B[43m)\u001B[49m\n\u001B[0;32m    133\u001B[0m \u001B[38;5;28mself\u001B[39m\u001B[38;5;241m.\u001B[39mU_l \u001B[38;5;241m=\u001B[39m \u001B[38;5;241m-\u001B[39m\u001B[38;5;241m1\u001B[39m \u001B[38;5;241m*\u001B[39m np\u001B[38;5;241m.\u001B[39mlog(column_ecdf(X))\n\u001B[0;32m    134\u001B[0m \u001B[38;5;28mself\u001B[39m\u001B[38;5;241m.\u001B[39mU_r \u001B[38;5;241m=\u001B[39m \u001B[38;5;241m-\u001B[39m\u001B[38;5;241m1\u001B[39m \u001B[38;5;241m*\u001B[39m np\u001B[38;5;241m.\u001B[39mlog(column_ecdf(\u001B[38;5;241m-\u001B[39mX))\n",
      "File \u001B[1;32m<__array_function__ internals>:200\u001B[0m, in \u001B[0;36mconcatenate\u001B[1;34m(*args, **kwargs)\u001B[0m\n",
      "\u001B[1;31mValueError\u001B[0m: all the input arrays must have same number of dimensions, but the array at index 0 has 2 dimension(s) and the array at index 1 has 0 dimension(s)"
     ]
    }
   ],
   "source": [
    "y_pred_clf = clf.predict(x_test)\n",
    "score=accuracy_score(y_test,y_pred_clf)\n",
    "print(f'Accuracy: {round(score*100,2)}%')"
   ],
   "metadata": {
    "collapsed": false,
    "ExecuteTime": {
     "end_time": "2023-08-11T17:02:48.678605600Z",
     "start_time": "2023-08-11T17:02:48.651974300Z"
    }
   },
   "id": "8c74ca0c20af3e51"
  },
  {
   "cell_type": "code",
   "execution_count": 10,
   "outputs": [
    {
     "data": {
      "text/plain": "<2388x60000 sparse matrix of type '<class 'numpy.float64'>'\n\twith 617717 stored elements in Compressed Sparse Row format>"
     },
     "execution_count": 10,
     "metadata": {},
     "output_type": "execute_result"
    }
   ],
   "source": [
    "x_test"
   ],
   "metadata": {
    "collapsed": false,
    "ExecuteTime": {
     "end_time": "2023-08-11T17:02:21.755768900Z",
     "start_time": "2023-08-11T17:02:21.735434800Z"
    }
   },
   "id": "2d43bd7f7e4f564f"
  },
  {
   "cell_type": "code",
   "execution_count": null,
   "outputs": [],
   "source": [],
   "metadata": {
    "collapsed": false
   },
   "id": "6f26bba638906b62"
  }
 ],
 "metadata": {
  "kernelspec": {
   "display_name": "Python 3",
   "language": "python",
   "name": "python3"
  },
  "language_info": {
   "codemirror_mode": {
    "name": "ipython",
    "version": 2
   },
   "file_extension": ".py",
   "mimetype": "text/x-python",
   "name": "python",
   "nbconvert_exporter": "python",
   "pygments_lexer": "ipython2",
   "version": "2.7.6"
  }
 },
 "nbformat": 4,
 "nbformat_minor": 5
}
