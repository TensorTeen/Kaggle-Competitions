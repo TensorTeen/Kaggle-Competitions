{
 "cells": [
  {
   "cell_type": "code",
   "execution_count": 1,
   "outputs": [
    {
     "name": "stdout",
     "output_type": "stream",
     "text": [
      "WARNING:tensorflow:From C:\\Akshay\\Tools\\Python\\Lib\\site-packages\\tensorflow\\python\\ops\\distributions\\distribution.py:259: ReparameterizationType.__init__ (from tensorflow.python.ops.distributions.distribution) is deprecated and will be removed after 2019-01-01.\n",
      "Instructions for updating:\n",
      "The TensorFlow Distributions library has moved to TensorFlow Probability (https://github.com/tensorflow/probability). You should update all references to use `tfp.distributions` instead of `tf.distributions`.\n",
      "WARNING:tensorflow:From C:\\Akshay\\Tools\\Python\\Lib\\site-packages\\tensorflow\\python\\ops\\distributions\\bernoulli.py:165: RegisterKL.__init__ (from tensorflow.python.ops.distributions.kullback_leibler) is deprecated and will be removed after 2019-01-01.\n",
      "Instructions for updating:\n",
      "The TensorFlow Distributions library has moved to TensorFlow Probability (https://github.com/tensorflow/probability). You should update all references to use `tfp.distributions` instead of `tf.distributions`.\n"
     ]
    }
   ],
   "source": [
    "import csv\n",
    "import matplotlib.pyplot as plt\n",
    "import tensorflow as tf\n",
    "import tensorflow as tf\n",
    "import tensorflow_hub as hub\n",
    "\n",
    "import requests\n",
    "from PIL import Image\n",
    "from io import BytesIO\n",
    "import numpy as np\n",
    "import pandas as pd"
   ],
   "metadata": {
    "collapsed": false,
    "ExecuteTime": {
     "end_time": "2023-09-09T04:47:59.108049700Z",
     "start_time": "2023-09-09T04:47:50.281982100Z"
    }
   },
   "id": "692e9c095113621f"
  },
  {
   "cell_type": "code",
   "execution_count": 2,
   "id": "initial_id",
   "metadata": {
    "collapsed": true,
    "ExecuteTime": {
     "end_time": "2023-09-09T04:47:59.126479600Z",
     "start_time": "2023-09-09T04:47:59.114125200Z"
    }
   },
   "outputs": [],
   "source": [
    "from PIL import Image, ImageDraw\n",
    "\n",
    "import json\n",
    "\n",
    "def vector_to_numpy(drawing, side=256):\n",
    "    image = vector_to_image(drawing, side)\n",
    "    image_array = np.array(image)\n",
    "    return image_array\n",
    "\n",
    "def vector_to_image(drawing, side=256):\n",
    "    drawing = json.loads(drawing)\n",
    "    min_x, min_y, max_x, max_y = calculate_bounding_box(drawing)\n",
    "\n",
    "    # Calculate the offset to center the drawing within the canvas\n",
    "    offset_x = (side - (max_x - min_x + 1)) // 2\n",
    "    offset_y = (side - (max_y - min_y + 1)) // 2\n",
    "\n",
    "    image = Image.new('L', (side, side), color='white')  # Create a white canvas\n",
    "    draw = ImageDraw.Draw(image)\n",
    "\n",
    "    for x, y in drawing:\n",
    "        xy = [(x0 - min_x + offset_x, y0 - min_y + offset_y) for x0, y0 in zip(x, y)]\n",
    "        draw.line(xy, fill='black', width=1)\n",
    "\n",
    "    return image\n",
    "\n",
    "def calculate_bounding_box(drawing):\n",
    "    all_x = [x for x, _ in drawing]\n",
    "    all_y = [y for _, y in drawing]\n",
    "\n",
    "    min_x = min(min(x) for x in all_x)\n",
    "    min_y = min(min(y) for y in all_y)\n",
    "    max_x = max(max(x) for x in all_x)\n",
    "    max_y = max(max(y) for y in all_y)\n",
    "\n",
    "    return min_x, min_y, max_x, max_y"
   ]
  },
  {
   "cell_type": "code",
   "execution_count": 3,
   "outputs": [],
   "source": [
    "df = pd.DataFrame()"
   ],
   "metadata": {
    "collapsed": false,
    "ExecuteTime": {
     "end_time": "2023-09-09T04:47:59.160111600Z",
     "start_time": "2023-09-09T04:47:59.127493200Z"
    }
   },
   "id": "ec683c7f48e88ebb"
  },
  {
   "cell_type": "code",
   "execution_count": 4,
   "outputs": [],
   "source": [
    "length = 432609"
   ],
   "metadata": {
    "collapsed": false,
    "ExecuteTime": {
     "end_time": "2023-09-09T04:47:59.160111600Z",
     "start_time": "2023-09-09T04:47:59.137254900Z"
    }
   },
   "id": "3dbe90a77d0a0615"
  },
  {
   "cell_type": "code",
   "execution_count": 5,
   "outputs": [],
   "source": [
    "def get_image_from_file(file_path):\n",
    "    images = []\n",
    "    labels = []\n",
    "    with open(file_path, 'r') as f:\n",
    "        csv_reader = csv.reader(f)\n",
    "        next(csv_reader)\n",
    "        i=0\n",
    "        for i in range(length//100):\n",
    "            row = next(csv_reader)  \n",
    "            drawing,label = row[0],row[2]\n",
    "            image = vector_to_numpy(drawing)\n",
    "            images.append(image)\n",
    "            labels.append(label)\n",
    "    return images,labels\n",
    "            "
   ],
   "metadata": {
    "collapsed": false,
    "ExecuteTime": {
     "end_time": "2023-09-09T04:47:59.163633100Z",
     "start_time": "2023-09-09T04:47:59.152088700Z"
    }
   },
   "id": "db5ead5b27964913"
  },
  {
   "cell_type": "code",
   "execution_count": 6,
   "outputs": [],
   "source": [
    "def reshape_image(image):\n",
    "    image = image.reshape(256,256,1)\n",
    "    image = tf.image.resize_with_pad(image, *image_size)\n",
    "    return image"
   ],
   "metadata": {
    "collapsed": false,
    "ExecuteTime": {
     "end_time": "2023-09-09T04:47:59.176885100Z",
     "start_time": "2023-09-09T04:47:59.163633100Z"
    }
   },
   "id": "4b8a6eafacb1ef88"
  },
  {
   "cell_type": "code",
   "execution_count": 17,
   "outputs": [],
   "source": [
    "df['image'],df['word'] = get_image_from_file('train.csv')"
   ],
   "metadata": {
    "collapsed": false,
    "ExecuteTime": {
     "end_time": "2023-09-09T04:57:06.657958900Z",
     "start_time": "2023-09-09T04:57:05.604326200Z"
    }
   },
   "id": "7023da9023198de8"
  },
  {
   "cell_type": "code",
   "execution_count": 18,
   "outputs": [],
   "source": [
    "df['image'] = df['image']/255"
   ],
   "metadata": {
    "collapsed": false,
    "ExecuteTime": {
     "end_time": "2023-09-09T04:57:14.848338Z",
     "start_time": "2023-09-09T04:57:09.484930400Z"
    }
   },
   "id": "a74de2e4ce6751f2"
  },
  {
   "cell_type": "code",
   "execution_count": 19,
   "outputs": [],
   "source": [
    "model_name = \"efficientnetv2-b2\"\n",
    "model_handle = \"https://tfhub.dev/google/imagenet/efficientnet_v2_imagenet1k_b2/classification/2\"\n",
    "image_size = (260, 260)"
   ],
   "metadata": {
    "collapsed": false,
    "ExecuteTime": {
     "end_time": "2023-09-09T04:57:14.865378200Z",
     "start_time": "2023-09-09T04:57:14.853180800Z"
    }
   },
   "id": "72bfb2907f1fb05f"
  },
  {
   "cell_type": "code",
   "execution_count": 20,
   "outputs": [],
   "source": [
    "classifier = hub.load(model_handle)"
   ],
   "metadata": {
    "collapsed": false,
    "ExecuteTime": {
     "end_time": "2023-09-09T04:57:24.398466400Z",
     "start_time": "2023-09-09T04:57:14.859917500Z"
    }
   },
   "id": "a5ec17c95f5dde09"
  },
  {
   "cell_type": "code",
   "execution_count": 21,
   "outputs": [],
   "source": [
    "df['image'] = df['image'].apply(reshape_image)"
   ],
   "metadata": {
    "collapsed": false,
    "ExecuteTime": {
     "end_time": "2023-09-09T04:57:52.975062200Z",
     "start_time": "2023-09-09T04:57:24.387626100Z"
    }
   },
   "id": "22bc3e3d475a0fd2"
  },
  {
   "cell_type": "code",
   "execution_count": null,
   "outputs": [],
   "source": [
    "df['image'] = df['image'].apply(tf.convert_to_tensor,args= (tf.float32,))"
   ],
   "metadata": {
    "collapsed": false,
    "is_executing": true
   },
   "id": "b81321aab5f9d66e"
  },
  {
   "cell_type": "code",
   "execution_count": null,
   "outputs": [],
   "source": [
    "df['image'] = df['image'][0]\n"
   ],
   "metadata": {
    "collapsed": false,
    "is_executing": true
   },
   "id": "79c6fdbd65468e61"
  },
  {
   "cell_type": "code",
   "execution_count": 24,
   "outputs": [],
   "source": [
    "labels_file = \"https://storage.googleapis.com/download.tensorflow.org/data/ImageNetLabels.txt\"\n",
    "\n",
    "#download labels and creates a maps\n",
    "downloaded_file = tf.keras.utils.get_file(\"labels.txt\", origin=labels_file)\n",
    "\n",
    "classes = []\n",
    "\n",
    "with open(downloaded_file) as f:\n",
    "    labels = f.readlines()\n",
    "    classes = [l.strip() for l in labels]"
   ],
   "metadata": {
    "collapsed": false,
    "ExecuteTime": {
     "end_time": "2023-09-09T04:57:53.101751900Z",
     "start_time": "2023-09-09T04:57:53.078674700Z"
    }
   },
   "id": "f97a69bc9dc2186a"
  },
  {
   "cell_type": "code",
   "execution_count": 25,
   "outputs": [
    {
     "ename": "ValueError",
     "evalue": "Could not find matching concrete function to call loaded from the SavedModel. Got:\n  Positional arguments (3 total):\n    * <tf.Tensor 'inputs:0' shape=(260, 260, 1) dtype=float32>\n    * False\n    * False\n  Keyword arguments: {}\n\n Expected these arguments to match one of the following 4 option(s):\n\nOption 1:\n  Positional arguments (3 total):\n    * TensorSpec(shape=(None, None, None, 3), dtype=tf.float32, name='input_1')\n    * False\n    * False\n  Keyword arguments: {}\n\nOption 2:\n  Positional arguments (3 total):\n    * TensorSpec(shape=(None, None, None, 3), dtype=tf.float32, name='inputs')\n    * False\n    * False\n  Keyword arguments: {}\n\nOption 3:\n  Positional arguments (3 total):\n    * TensorSpec(shape=(None, None, None, 3), dtype=tf.float32, name='inputs')\n    * True\n    * False\n  Keyword arguments: {}\n\nOption 4:\n  Positional arguments (3 total):\n    * TensorSpec(shape=(None, None, None, 3), dtype=tf.float32, name='input_1')\n    * True\n    * False\n  Keyword arguments: {}",
     "output_type": "error",
     "traceback": [
      "\u001B[1;31m---------------------------------------------------------------------------\u001B[0m",
      "\u001B[1;31mValueError\u001B[0m                                Traceback (most recent call last)",
      "Cell \u001B[1;32mIn[25], line 1\u001B[0m\n\u001B[1;32m----> 1\u001B[0m probabilities \u001B[38;5;241m=\u001B[39m tf\u001B[38;5;241m.\u001B[39mnn\u001B[38;5;241m.\u001B[39msoftmax(\u001B[43mclassifier\u001B[49m\u001B[43m(\u001B[49m\u001B[43mdf\u001B[49m\u001B[43m[\u001B[49m\u001B[38;5;124;43m'\u001B[39;49m\u001B[38;5;124;43mimage\u001B[39;49m\u001B[38;5;124;43m'\u001B[39;49m\u001B[43m]\u001B[49m\u001B[43m[\u001B[49m\u001B[38;5;241;43m0\u001B[39;49m\u001B[43m]\u001B[49m\u001B[43m,\u001B[49m\u001B[38;5;28;43;01mFalse\u001B[39;49;00m\u001B[43m,\u001B[49m\u001B[38;5;28;43;01mFalse\u001B[39;49;00m\u001B[43m)\u001B[49m)\u001B[38;5;241m.\u001B[39mnumpy()\n\u001B[0;32m      3\u001B[0m top_5 \u001B[38;5;241m=\u001B[39m tf\u001B[38;5;241m.\u001B[39margsort(probabilities, axis\u001B[38;5;241m=\u001B[39m\u001B[38;5;241m-\u001B[39m\u001B[38;5;241m1\u001B[39m, direction\u001B[38;5;241m=\u001B[39m\u001B[38;5;124m\"\u001B[39m\u001B[38;5;124mDESCENDING\u001B[39m\u001B[38;5;124m\"\u001B[39m)[\u001B[38;5;241m0\u001B[39m][:\u001B[38;5;241m5\u001B[39m]\u001B[38;5;241m.\u001B[39mnumpy()\n\u001B[0;32m      4\u001B[0m np_classes \u001B[38;5;241m=\u001B[39m np\u001B[38;5;241m.\u001B[39marray(classes)\n",
      "File \u001B[1;32mC:\\Akshay\\Tools\\Python\\Lib\\site-packages\\tensorflow\\python\\saved_model\\load.py:804\u001B[0m, in \u001B[0;36m_call_attribute\u001B[1;34m(instance, *args, **kwargs)\u001B[0m\n\u001B[0;32m    803\u001B[0m \u001B[38;5;28;01mdef\u001B[39;00m \u001B[38;5;21m_call_attribute\u001B[39m(instance, \u001B[38;5;241m*\u001B[39margs, \u001B[38;5;241m*\u001B[39m\u001B[38;5;241m*\u001B[39mkwargs):\n\u001B[1;32m--> 804\u001B[0m   \u001B[38;5;28;01mreturn\u001B[39;00m \u001B[43minstance\u001B[49m\u001B[38;5;241;43m.\u001B[39;49m\u001B[38;5;21;43m__call__\u001B[39;49m\u001B[43m(\u001B[49m\u001B[38;5;241;43m*\u001B[39;49m\u001B[43margs\u001B[49m\u001B[43m,\u001B[49m\u001B[43m \u001B[49m\u001B[38;5;241;43m*\u001B[39;49m\u001B[38;5;241;43m*\u001B[39;49m\u001B[43mkwargs\u001B[49m\u001B[43m)\u001B[49m\n",
      "File \u001B[1;32mC:\\Akshay\\Tools\\Python\\Lib\\site-packages\\tensorflow\\python\\util\\traceback_utils.py:153\u001B[0m, in \u001B[0;36mfilter_traceback.<locals>.error_handler\u001B[1;34m(*args, **kwargs)\u001B[0m\n\u001B[0;32m    151\u001B[0m \u001B[38;5;28;01mexcept\u001B[39;00m \u001B[38;5;167;01mException\u001B[39;00m \u001B[38;5;28;01mas\u001B[39;00m e:\n\u001B[0;32m    152\u001B[0m   filtered_tb \u001B[38;5;241m=\u001B[39m _process_traceback_frames(e\u001B[38;5;241m.\u001B[39m__traceback__)\n\u001B[1;32m--> 153\u001B[0m   \u001B[38;5;28;01mraise\u001B[39;00m e\u001B[38;5;241m.\u001B[39mwith_traceback(filtered_tb) \u001B[38;5;28;01mfrom\u001B[39;00m \u001B[38;5;28;01mNone\u001B[39;00m\n\u001B[0;32m    154\u001B[0m \u001B[38;5;28;01mfinally\u001B[39;00m:\n\u001B[0;32m    155\u001B[0m   \u001B[38;5;28;01mdel\u001B[39;00m filtered_tb\n",
      "File \u001B[1;32mC:\\Akshay\\Tools\\Python\\Lib\\site-packages\\tensorflow\\python\\saved_model\\function_deserialization.py:335\u001B[0m, in \u001B[0;36mrecreate_function.<locals>.restored_function_body\u001B[1;34m(*args, **kwargs)\u001B[0m\n\u001B[0;32m    331\u001B[0m   positional, keyword \u001B[38;5;241m=\u001B[39m concrete_function\u001B[38;5;241m.\u001B[39mstructured_input_signature\n\u001B[0;32m    332\u001B[0m   signature_descriptions\u001B[38;5;241m.\u001B[39mappend(\n\u001B[0;32m    333\u001B[0m       \u001B[38;5;124m\"\u001B[39m\u001B[38;5;124mOption \u001B[39m\u001B[38;5;132;01m{}\u001B[39;00m\u001B[38;5;124m:\u001B[39m\u001B[38;5;130;01m\\n\u001B[39;00m\u001B[38;5;124m  \u001B[39m\u001B[38;5;132;01m{}\u001B[39;00m\u001B[38;5;130;01m\\n\u001B[39;00m\u001B[38;5;124m  Keyword arguments: \u001B[39m\u001B[38;5;132;01m{}\u001B[39;00m\u001B[38;5;124m\"\u001B[39m\u001B[38;5;241m.\u001B[39mformat(\n\u001B[0;32m    334\u001B[0m           index \u001B[38;5;241m+\u001B[39m \u001B[38;5;241m1\u001B[39m, _pretty_format_positional(positional), keyword))\n\u001B[1;32m--> 335\u001B[0m \u001B[38;5;28;01mraise\u001B[39;00m \u001B[38;5;167;01mValueError\u001B[39;00m(\n\u001B[0;32m    336\u001B[0m     \u001B[38;5;124m\"\u001B[39m\u001B[38;5;124mCould not find matching concrete function to call loaded from the \u001B[39m\u001B[38;5;124m\"\u001B[39m\n\u001B[0;32m    337\u001B[0m     \u001B[38;5;124mf\u001B[39m\u001B[38;5;124m\"\u001B[39m\u001B[38;5;124mSavedModel. Got:\u001B[39m\u001B[38;5;130;01m\\n\u001B[39;00m\u001B[38;5;124m  \u001B[39m\u001B[38;5;132;01m{\u001B[39;00m_pretty_format_positional(args)\u001B[38;5;132;01m}\u001B[39;00m\u001B[38;5;130;01m\\n\u001B[39;00m\u001B[38;5;124m  Keyword \u001B[39m\u001B[38;5;124m\"\u001B[39m\n\u001B[0;32m    338\u001B[0m     \u001B[38;5;124mf\u001B[39m\u001B[38;5;124m\"\u001B[39m\u001B[38;5;124marguments: \u001B[39m\u001B[38;5;132;01m{\u001B[39;00mkwargs\u001B[38;5;132;01m}\u001B[39;00m\u001B[38;5;130;01m\\n\u001B[39;00m\u001B[38;5;130;01m\\n\u001B[39;00m\u001B[38;5;124m Expected these arguments to match one of the \u001B[39m\u001B[38;5;124m\"\u001B[39m\n\u001B[0;32m    339\u001B[0m     \u001B[38;5;124mf\u001B[39m\u001B[38;5;124m\"\u001B[39m\u001B[38;5;124mfollowing \u001B[39m\u001B[38;5;132;01m{\u001B[39;00m\u001B[38;5;28mlen\u001B[39m(saved_function\u001B[38;5;241m.\u001B[39mconcrete_functions)\u001B[38;5;132;01m}\u001B[39;00m\u001B[38;5;124m option(s):\u001B[39m\u001B[38;5;130;01m\\n\u001B[39;00m\u001B[38;5;130;01m\\n\u001B[39;00m\u001B[38;5;124m\"\u001B[39m\n\u001B[0;32m    340\u001B[0m     \u001B[38;5;124mf\u001B[39m\u001B[38;5;124m\"\u001B[39m\u001B[38;5;132;01m{\u001B[39;00m(\u001B[38;5;28mchr\u001B[39m(\u001B[38;5;241m10\u001B[39m)\u001B[38;5;241m+\u001B[39m\u001B[38;5;28mchr\u001B[39m(\u001B[38;5;241m10\u001B[39m))\u001B[38;5;241m.\u001B[39mjoin(signature_descriptions)\u001B[38;5;132;01m}\u001B[39;00m\u001B[38;5;124m\"\u001B[39m)\n",
      "\u001B[1;31mValueError\u001B[0m: Could not find matching concrete function to call loaded from the SavedModel. Got:\n  Positional arguments (3 total):\n    * <tf.Tensor 'inputs:0' shape=(260, 260, 1) dtype=float32>\n    * False\n    * False\n  Keyword arguments: {}\n\n Expected these arguments to match one of the following 4 option(s):\n\nOption 1:\n  Positional arguments (3 total):\n    * TensorSpec(shape=(None, None, None, 3), dtype=tf.float32, name='input_1')\n    * False\n    * False\n  Keyword arguments: {}\n\nOption 2:\n  Positional arguments (3 total):\n    * TensorSpec(shape=(None, None, None, 3), dtype=tf.float32, name='inputs')\n    * False\n    * False\n  Keyword arguments: {}\n\nOption 3:\n  Positional arguments (3 total):\n    * TensorSpec(shape=(None, None, None, 3), dtype=tf.float32, name='inputs')\n    * True\n    * False\n  Keyword arguments: {}\n\nOption 4:\n  Positional arguments (3 total):\n    * TensorSpec(shape=(None, None, None, 3), dtype=tf.float32, name='input_1')\n    * True\n    * False\n  Keyword arguments: {}"
     ]
    }
   ],
   "source": [
    "probabilities = tf.nn.softmax(classifier(df['image'][0],False,False)).numpy()\n",
    "\n",
    "top_5 = tf.argsort(probabilities, axis=-1, direction=\"DESCENDING\")[0][:5].numpy()\n",
    "np_classes = np.array(classes)"
   ],
   "metadata": {
    "collapsed": false,
    "ExecuteTime": {
     "end_time": "2023-09-09T04:57:53.277617600Z",
     "start_time": "2023-09-09T04:57:53.094476900Z"
    }
   },
   "id": "cbed250cb6a198e8"
  },
  {
   "cell_type": "code",
   "execution_count": null,
   "outputs": [],
   "source": [],
   "metadata": {
    "collapsed": false,
    "ExecuteTime": {
     "start_time": "2023-09-09T04:55:47.230644400Z"
    }
   },
   "id": "4cd6924970577e12"
  },
  {
   "cell_type": "code",
   "execution_count": null,
   "outputs": [],
   "source": [],
   "metadata": {
    "collapsed": false
   },
   "id": "fd8c77735f7f2b76"
  }
 ],
 "metadata": {
  "kernelspec": {
   "display_name": "Python 3",
   "language": "python",
   "name": "python3"
  },
  "language_info": {
   "codemirror_mode": {
    "name": "ipython",
    "version": 2
   },
   "file_extension": ".py",
   "mimetype": "text/x-python",
   "name": "python",
   "nbconvert_exporter": "python",
   "pygments_lexer": "ipython2",
   "version": "2.7.6"
  }
 },
 "nbformat": 4,
 "nbformat_minor": 5
}
